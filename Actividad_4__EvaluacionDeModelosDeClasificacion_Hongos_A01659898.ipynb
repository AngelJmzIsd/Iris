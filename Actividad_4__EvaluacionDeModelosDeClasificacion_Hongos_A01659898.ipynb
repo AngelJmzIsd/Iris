{
  "nbformat": 4,
  "nbformat_minor": 0,
  "metadata": {
    "colab": {
      "name": "Actividad 4_ EvaluacionDeModelosDeClasificacion_Hongos_A01659898.ipynb",
      "provenance": [],
      "mount_file_id": "1G0QLEv-JwRs9eQAH-OrJfXee4DQQwXuE",
      "authorship_tag": "ABX9TyMeowvivksLQcLDwngLmzh/",
      "include_colab_link": true
    },
    "kernelspec": {
      "name": "python3",
      "display_name": "Python 3"
    },
    "language_info": {
      "name": "python"
    }
  },
  "cells": [
    {
      "cell_type": "markdown",
      "metadata": {
        "id": "view-in-github",
        "colab_type": "text"
      },
      "source": [
        "<a href=\"https://colab.research.google.com/github/AngelJmzIsd/Iris/blob/main/Actividad_4__EvaluacionDeModelosDeClasificacion_Hongos_A01659898.ipynb\" target=\"_parent\"><img src=\"https://colab.research.google.com/assets/colab-badge.svg\" alt=\"Open In Colab\"/></a>"
      ]
    },
    {
      "cell_type": "markdown",
      "source": [
        "1. IMPORTAR ARCHIVOS Y LIBRERIAS"
      ],
      "metadata": {
        "id": "nxp_7bAFWyYL"
      }
    },
    {
      "cell_type": "code",
      "source": [
        "import matplotlib.pyplot as plt\n",
        "#import seaborn as sns\n",
        "#import re\n",
        "\n",
        "%matplotlib inline\n",
        "#sns.set()\n",
        "import pandas as pd\n",
        "import numpy as np\n",
        "from google.colab import drive\n",
        "drive.mount('/content/gdrive')\n",
        "hongos = pd.read_csv('/content/gdrive/MyDrive/4TO SEMESTRE/ANALISIS DE CIENCIA DE DATOS/Hongos/mushrooms.csv')\n",
        "\n",
        "from sklearn import datasets\n",
        "from sklearn.preprocessing import label_binarize"
      ],
      "metadata": {
        "id": "6YWUfknWy1Kr",
        "colab": {
          "base_uri": "https://localhost:8080/"
        },
        "outputId": "ab141552-60e5-47e0-de7c-b65362ae4734"
      },
      "execution_count": null,
      "outputs": [
        {
          "output_type": "stream",
          "name": "stdout",
          "text": [
            "Mounted at /content/gdrive\n"
          ]
        }
      ]
    },
    {
      "cell_type": "markdown",
      "source": [
        "# **CREACIÓN DE LAS DUMMIE VARIABLES**\n"
      ],
      "metadata": {
        "id": "Defp9aG5VOOZ"
      }
    },
    {
      "cell_type": "markdown",
      "source": [
        "**COLUMNA OBJETIVO**"
      ],
      "metadata": {
        "id": "__0pA5pizqYf"
      }
    },
    {
      "cell_type": "markdown",
      "source": [
        "La columna objetivo o target es en este caso class, sin embargo será necesario convertirla a una columna con valores binarios. Así mismo, las demás columnas deberán ser convertidas a datos numéricos para poder trabajar con ellos."
      ],
      "metadata": {
        "id": "C9f3lLRizBQG"
      }
    },
    {
      "cell_type": "code",
      "source": [
        "#COPIAR EL DATAFRAME PARA SUSTITUIR LOS VALORES SIN MODIFICAR EL DATAFRAME ORIGINAL\n",
        "'''\n",
        "e = edible = 1\n",
        "p = poisonous = 0\n",
        "\n",
        "'''\n",
        "df=hongos.copy()\n",
        "df['class'] = np.where(df['class'] == 'e', 1, 0)"
      ],
      "metadata": {
        "id": "Vtcz7Zc1YaoY"
      },
      "execution_count": null,
      "outputs": []
    },
    {
      "cell_type": "markdown",
      "source": [
        "**COLUMNAS PREDICTORAS - FEATURES**"
      ],
      "metadata": {
        "id": "i1B3moRPtd1H"
      }
    },
    {
      "cell_type": "code",
      "source": [
        "#Aqui se define un nuevo dataframe con todas las columnas del dataframe original\n",
        "#a excepcion de class, la cual se elimina pues es la variable objetivo.\n",
        "predictors=df.drop(['class'],axis=1)"
      ],
      "metadata": {
        "id": "EqBThvnutWE7"
      },
      "execution_count": null,
      "outputs": []
    },
    {
      "cell_type": "code",
      "source": [
        "#HACERLAS DUMMIES, EN CADA COLUMNA POR SEPARADO, 1 o 0\n",
        "dummyPredictors = pd.get_dummies(predictors)"
      ],
      "metadata": {
        "id": "S6SdvYHAt37D"
      },
      "execution_count": null,
      "outputs": []
    },
    {
      "cell_type": "code",
      "source": [
        "dummyPredictors.shape"
      ],
      "metadata": {
        "colab": {
          "base_uri": "https://localhost:8080/"
        },
        "id": "xJ4XsmmqEQQk",
        "outputId": "049a50dd-ab24-49c6-f4b9-3fc3e63a1286"
      },
      "execution_count": null,
      "outputs": [
        {
          "output_type": "execute_result",
          "data": {
            "text/plain": [
              "(8124, 117)"
            ]
          },
          "metadata": {},
          "execution_count": 5
        }
      ]
    },
    {
      "cell_type": "markdown",
      "source": [
        "IMPORTAR ARCHIVOS Y LIBRERIAS"
      ],
      "metadata": {
        "id": "uzGdz0Bv1vcI"
      }
    },
    {
      "cell_type": "code",
      "source": [
        "#IMPORTAR EL MODULO IRIS\n",
        "from google.colab import files\n",
        "!cp /content/gdrive/MyDrive/ProyectoLibreria/iris.py /content\n",
        "\n",
        "#Se importa la clase Setosa, para entrenar y evaluar los modelos\n",
        "from iris import Setosa"
      ],
      "metadata": {
        "id": "4RJPCdFT1yJ6"
      },
      "execution_count": null,
      "outputs": []
    },
    {
      "cell_type": "code",
      "source": [
        "#SE CREA UN OBJETO DE LA CLASE SETOSA, QUE FUNCIONA COMO EVALUADOR\n",
        "#Se ingresan las columnas predictoras y la columna objetivo\n",
        "\n",
        "Eva = Setosa(dummyPredictors,df['class'])"
      ],
      "metadata": {
        "id": "YYixMiTuQDJP"
      },
      "execution_count": null,
      "outputs": []
    },
    {
      "cell_type": "code",
      "source": [
        "#DIVIDIR LOS DATOS EN CONJUNTO DE ENTRNAMIENTO Y DE PRUEBA\n",
        "#Se usa un test size de 0.3\n",
        "Eva.generarSetsTrainTest(0.3,0)"
      ],
      "metadata": {
        "id": "B2NAVPmGQce3"
      },
      "execution_count": null,
      "outputs": []
    },
    {
      "cell_type": "markdown",
      "source": [
        "# **ENTRENAMIENTO DE MODELOS**"
      ],
      "metadata": {
        "id": "LtCThzMtacto"
      }
    },
    {
      "cell_type": "code",
      "source": [
        "#El arbol se entrena con un random state = 0\n",
        "#y una profundidad maxima de 1\n",
        "#para que las graficas puedan apreciasrse con mas\n",
        "#variaciones\n",
        "Eva.entrenarArbol(0,1)"
      ],
      "metadata": {
        "id": "8h0fjsTWe65y"
      },
      "execution_count": null,
      "outputs": []
    },
    {
      "cell_type": "code",
      "source": [
        "Eva.entrenarRegresionLogistica()"
      ],
      "metadata": {
        "id": "S9rr6nLFe9TC"
      },
      "execution_count": null,
      "outputs": []
    },
    {
      "cell_type": "code",
      "source": [
        "Eva.entrenarSVM()"
      ],
      "metadata": {
        "id": "iGvXAu8Oe_VT"
      },
      "execution_count": null,
      "outputs": []
    },
    {
      "cell_type": "markdown",
      "source": [
        "# **EVALUACIÓN DE LOS MODELOS**"
      ],
      "metadata": {
        "id": "80LTmzeyrt3q"
      }
    },
    {
      "cell_type": "code",
      "source": [
        "Eva.printReporteInd(\"arbol\")"
      ],
      "metadata": {
        "colab": {
          "base_uri": "https://localhost:8080/"
        },
        "id": "o4adPkI2Tk_G",
        "outputId": "46a9d492-94b0-433f-9172-8af2ed091749"
      },
      "execution_count": null,
      "outputs": [
        {
          "output_type": "stream",
          "name": "stdout",
          "text": [
            "<<<    REPORTE INDIVIDUAL DEL MODELO:  Arbol de decisiones  >>>> \n",
            "\n",
            "Accuracy:  0.8798195242001641\n",
            "Precision:  0.968421052631579\n",
            "Recall (sensibilidad):  0.7955974842767296\n",
            "Especificidad:  0.9716981132075472\n",
            "F1:  0.8735433750539491\n"
          ]
        }
      ]
    },
    {
      "cell_type": "code",
      "source": [
        "Eva.printReporteInd(\"logreg\")"
      ],
      "metadata": {
        "colab": {
          "base_uri": "https://localhost:8080/"
        },
        "id": "lQflmtk6fn0C",
        "outputId": "68a9b069-b93b-41ab-e097-3e6a594ca0e0"
      },
      "execution_count": null,
      "outputs": [
        {
          "output_type": "stream",
          "name": "stdout",
          "text": [
            "<<<    REPORTE INDIVIDUAL DEL MODELO:  Regresion Logistica  >>>> \n",
            "\n",
            "Accuracy:  1.0\n",
            "Precision:  1.0\n",
            "Recall (sensibilidad):  1.0\n",
            "Especificidad:  1.0\n",
            "F1:  1.0\n"
          ]
        }
      ]
    },
    {
      "cell_type": "code",
      "source": [
        "Eva.printReporteInd(\"svm\")"
      ],
      "metadata": {
        "colab": {
          "base_uri": "https://localhost:8080/"
        },
        "id": "NVLW8noefpsb",
        "outputId": "084154a6-f389-42ec-d31a-b861efb872ca"
      },
      "execution_count": null,
      "outputs": [
        {
          "output_type": "stream",
          "name": "stdout",
          "text": [
            "<<<    REPORTE INDIVIDUAL DEL MODELO:  Support Vector Machine  >>>> \n",
            "\n",
            "Accuracy:  1.0\n",
            "Precision:  1.0\n",
            "Recall (sensibilidad):  1.0\n",
            "Especificidad:  1.0\n",
            "F1:  1.0\n"
          ]
        }
      ]
    },
    {
      "cell_type": "markdown",
      "source": [
        "# **MATRICES DE CONFUSION**"
      ],
      "metadata": {
        "id": "cWyzvoLjW7Y8"
      }
    },
    {
      "cell_type": "code",
      "source": [
        "#Amtria del modelo de arbol\n",
        "Eva.mostrarMatrizConfusion(\"arbol\")"
      ],
      "metadata": {
        "id": "4B7gwD__XmeU",
        "colab": {
          "base_uri": "https://localhost:8080/",
          "height": 296
        },
        "outputId": "a877f621-8dd2-4664-a144-b4d235d6e666"
      },
      "execution_count": null,
      "outputs": [
        {
          "output_type": "display_data",
          "data": {
            "text/plain": [
              "<Figure size 432x288 with 2 Axes>"
            ],
            "image/png": "[encoded data removed]"
          },
          "metadata": {
            "needs_background": "light"
          }
        },
        {
          "output_type": "display_data",
          "data": {
            "text/plain": [
              "<Figure size 432x288 with 0 Axes>"
            ]
          },
          "metadata": {}
        }
      ]
    },
    {
      "cell_type": "code",
      "source": [
        "Eva.mostrarMatrizConfusion(\"logreg\")"
      ],
      "metadata": {
        "colab": {
          "base_uri": "https://localhost:8080/",
          "height": 296
        },
        "id": "OvYW7Z0pdIhx",
        "outputId": "78620927-3dd9-4ddb-c448-5804dd220731"
      },
      "execution_count": null,
      "outputs": [
        {
          "output_type": "display_data",
          "data": {
            "text/plain": [
              "<Figure size 432x288 with 2 Axes>"
            ],
            "image/png": "[encoded data removed]"
          },
          "metadata": {
            "needs_background": "light"
          }
        },
        {
          "output_type": "display_data",
          "data": {
            "text/plain": [
              "<Figure size 432x288 with 0 Axes>"
            ]
          },
          "metadata": {}
        }
      ]
    },
    {
      "cell_type": "code",
      "source": [
        "Eva.mostrarMatrizConfusion(\"svm\")"
      ],
      "metadata": {
        "colab": {
          "base_uri": "https://localhost:8080/",
          "height": 296
        },
        "id": "v9MUXoXedMhJ",
        "outputId": "d1f27e31-b219-4e60-bb4d-d9584ebe8551"
      },
      "execution_count": null,
      "outputs": [
        {
          "output_type": "display_data",
          "data": {
            "text/plain": [
              "<Figure size 432x288 with 2 Axes>"
            ],
            "image/png": "[encoded data removed]"
          },
          "metadata": {
            "needs_background": "light"
          }
        },
        {
          "output_type": "display_data",
          "data": {
            "text/plain": [
              "<Figure size 432x288 with 0 Axes>"
            ]
          },
          "metadata": {}
        }
      ]
    },
    {
      "cell_type": "markdown",
      "source": [
        "# **GRAFICAS DE CURVA ROC Y AUC**\n",
        "\n",
        "En las mismas gráficas se encuentra el valor de la AUC"
      ],
      "metadata": {
        "id": "zMmsnVahiijP"
      }
    },
    {
      "cell_type": "code",
      "source": [
        "Eva.mostrarCurvaROC(\"arbol\")"
      ],
      "metadata": {
        "colab": {
          "base_uri": "https://localhost:8080/",
          "height": 351
        },
        "id": "PqpLYPXbk4BV",
        "outputId": "5732c465-55ba-4a51-d575-62454e03d7e9"
      },
      "execution_count": null,
      "outputs": [
        {
          "output_type": "stream",
          "name": "stderr",
          "text": [
            "/usr/local/lib/python3.7/dist-packages/sklearn/utils/deprecation.py:87: FutureWarning: Function plot_roc_curve is deprecated; Function :func:`plot_roc_curve` is deprecated in 1.0 and will be removed in 1.2. Use one of the class methods: :meth:`sklearn.metric.RocCurveDisplay.from_predictions` or :meth:`sklearn.metric.RocCurveDisplay.from_estimator`.\n",
            "  warnings.warn(msg, category=FutureWarning)\n"
          ]
        },
        {
          "output_type": "display_data",
          "data": {
            "text/plain": [
              "<Figure size 432x288 with 1 Axes>"
            ],
            "image/png": "[encoded data removed]"
          },
          "metadata": {
            "needs_background": "light"
          }
        },
        {
          "output_type": "display_data",
          "data": {
            "text/plain": [
              "<Figure size 432x288 with 0 Axes>"
            ]
          },
          "metadata": {}
        }
      ]
    },
    {
      "cell_type": "code",
      "source": [
        "Eva.mostrarCurvaROC(\"logreg\")"
      ],
      "metadata": {
        "colab": {
          "base_uri": "https://localhost:8080/",
          "height": 351
        },
        "id": "erkIHZa3k4LS",
        "outputId": "a7f7bb9b-aa02-4271-bdc4-193dbd5784fa"
      },
      "execution_count": null,
      "outputs": [
        {
          "output_type": "stream",
          "name": "stderr",
          "text": [
            "/usr/local/lib/python3.7/dist-packages/sklearn/utils/deprecation.py:87: FutureWarning: Function plot_roc_curve is deprecated; Function :func:`plot_roc_curve` is deprecated in 1.0 and will be removed in 1.2. Use one of the class methods: :meth:`sklearn.metric.RocCurveDisplay.from_predictions` or :meth:`sklearn.metric.RocCurveDisplay.from_estimator`.\n",
            "  warnings.warn(msg, category=FutureWarning)\n"
          ]
        },
        {
          "output_type": "display_data",
          "data": {
            "text/plain": [
              "<Figure size 432x288 with 1 Axes>"
            ],
            "image/png": "[encoded data removed]"
          },
          "metadata": {
            "needs_background": "light"
          }
        },
        {
          "output_type": "display_data",
          "data": {
            "text/plain": [
              "<Figure size 432x288 with 0 Axes>"
            ]
          },
          "metadata": {}
        }
      ]
    },
    {
      "cell_type": "code",
      "source": [
        "Eva.mostrarCurvaROC(\"svm\")"
      ],
      "metadata": {
        "colab": {
          "base_uri": "https://localhost:8080/",
          "height": 351
        },
        "id": "efw4MRm7k-av",
        "outputId": "fca358fe-e088-4c38-aa61-b64d6e139533"
      },
      "execution_count": null,
      "outputs": [
        {
          "output_type": "stream",
          "name": "stderr",
          "text": [
            "/usr/local/lib/python3.7/dist-packages/sklearn/utils/deprecation.py:87: FutureWarning: Function plot_roc_curve is deprecated; Function :func:`plot_roc_curve` is deprecated in 1.0 and will be removed in 1.2. Use one of the class methods: :meth:`sklearn.metric.RocCurveDisplay.from_predictions` or :meth:`sklearn.metric.RocCurveDisplay.from_estimator`.\n",
            "  warnings.warn(msg, category=FutureWarning)\n"
          ]
        },
        {
          "output_type": "display_data",
          "data": {
            "text/plain": [
              "<Figure size 432x288 with 1 Axes>"
            ],
            "image/png": "[encoded data removed]"
          },
          "metadata": {
            "needs_background": "light"
          }
        },
        {
          "output_type": "display_data",
          "data": {
            "text/plain": [
              "<Figure size 432x288 with 0 Axes>"
            ]
          },
          "metadata": {}
        }
      ]
    }
  ]
}