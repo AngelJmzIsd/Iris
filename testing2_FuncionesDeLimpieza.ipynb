{
  "nbformat": 4,
  "nbformat_minor": 0,
  "metadata": {
    "colab": {
      "name": "testing2_FuncionesDeLimpieza.ipynb",
      "provenance": [],
      "authorship_tag": "ABX9TyNMDloIEqwLA5MpV3R+4l5h",
      "include_colab_link": true
    },
    "kernelspec": {
      "name": "python3",
      "display_name": "Python 3"
    },
    "language_info": {
      "name": "python"
    }
  },
  "cells": [
    {
      "cell_type": "markdown",
      "metadata": {
        "id": "view-in-github",
        "colab_type": "text"
      },
      "source": [
        "<a href=\"https://colab.research.google.com/github/AngelJmzIsd/Iris/blob/main/testing2_FuncionesDeLimpieza.ipynb\" target=\"_parent\"><img src=\"https://colab.research.google.com/assets/colab-badge.svg\" alt=\"Open In Colab\"/></a>"
      ]
    },
    {
      "cell_type": "code",
      "execution_count": 1,
      "metadata": {
        "colab": {
          "base_uri": "https://localhost:8080/"
        },
        "id": "KsT4GpXKbebZ",
        "outputId": "2f65b851-426b-4ab2-9f0d-283a60da7894"
      },
      "outputs": [
        {
          "output_type": "stream",
          "name": "stdout",
          "text": [
            "Mounted at /content/gdrive\n"
          ]
        }
      ],
      "source": [
        "#IMPORTAR LIBRERIAS\n",
        "import pandas as pd\n",
        "import numpy as np\n",
        "from google.colab import drive\n",
        "\n",
        "#PARA OBTENER LA LISTA DE LOS METODOS DE UNA CLASE\n",
        "import inspect\n",
        "drive.mount('/content/gdrive')\n",
        "\n",
        "\n",
        "#IMPORTAR EL MODULO VERSICOLOR\n",
        "from google.colab import files\n",
        "!cp /content/gdrive/MyDrive/ProyectoLibreria/versicolor.py /content\n",
        "from versicolor import Dataset"
      ]
    },
    {
      "cell_type": "markdown",
      "source": [
        "# **LISTAR FUNCIONES**"
      ],
      "metadata": {
        "id": "EOAqeatXb1cJ"
      }
    },
    {
      "cell_type": "markdown",
      "source": [
        "**OBTENER LISTA DE FUNCIONES**"
      ],
      "metadata": {
        "id": "y53mZ_sodvct"
      }
    },
    {
      "cell_type": "code",
      "source": [
        "funciones=inspect.getmembers(Dataset, predicate=inspect.isfunction)\n",
        "\n",
        "for funcion in funciones:\n",
        "  print(funcion[0])"
      ],
      "metadata": {
        "colab": {
          "base_uri": "https://localhost:8080/"
        },
        "id": "mKsVP5V5dyGo",
        "outputId": "0946eb59-8d72-430d-8875-183e4ea71f53"
      },
      "execution_count": 2,
      "outputs": [
        {
          "output_type": "stream",
          "name": "stdout",
          "text": [
            "__init__\n",
            "contarAtipicosPorColumnas\n",
            "contarFaltantesColumnas\n",
            "contarFaltantesColumnasCustom\n",
            "exportarCsv\n",
            "getColumnasVacias\n",
            "getColumnasVaciasPorcentaje\n",
            "getKbestChi2DefectoIndividual\n",
            "getNombresNoNumericas\n",
            "getNombresNumericas\n",
            "getTargetBinarioDefecto\n",
            "quitarAtipicosPorColumnas\n",
            "quitarColumnas\n",
            "reemplazarFaltantesColumnas\n",
            "reemplazarFaltantesColumnasCustom\n"
          ]
        }
      ]
    },
    {
      "cell_type": "markdown",
      "source": [
        "**LISTA DE FUNCIONES A PROBAR**\n",
        "\n",
        "\n",
        "\n",
        "---\n",
        "- getColumnasVacias\n",
        "- getNombresNoNumericas\n",
        "- getNombresNumericas\n",
        "---\n",
        "- contarAtipicosPorColumnas\n",
        "- contarFaltantesColumnas\n",
        "- contarFaltantesColumnasCustom\n",
        "---\n",
        "- quitarColumnas\n",
        "- reemplazarFaltantesColumnas\n",
        "- reemplazarFaltantesColumnasCustom\n",
        "---\n",
        "- exportarCsv\n",
        "---\n",
        "\n"
      ],
      "metadata": {
        "id": "tGJF21wDe4EL"
      }
    },
    {
      "cell_type": "markdown",
      "source": [
        "# **PRUEBAS DE FUNCIONES**"
      ],
      "metadata": {
        "id": "lzqzhdLQgDvJ"
      }
    },
    {
      "cell_type": "markdown",
      "source": [
        "**CREAR OBJETOS DATASET**"
      ],
      "metadata": {
        "id": "2n1vLOoCfyp8"
      }
    },
    {
      "cell_type": "code",
      "source": [
        "#IMPORTAR DATASETS\n",
        "diabetes = pd.read_csv('/content/gdrive/MyDrive/DATASETS/diabetes.csv')\n",
        "iris = pd.read_csv('/content/gdrive/MyDrive/DATASETS/iris.csv')\n",
        "mushrooms = pd.read_csv('/content/gdrive/MyDrive/DATASETS/mushrooms.csv')\n",
        "cars1 = pd.read_csv('/content/gdrive/MyDrive/DATASETS/Cars1.csv')\n",
        "cars2 = pd.read_csv('/content/gdrive/MyDrive/DATASETS/Cars2.csv')\n",
        "\n",
        "\n",
        "Diabetes = Dataset(diabetes,\"dataset de diabetes\")\n",
        "Iris = Dataset(iris,\"dataset de flores de iris\")\n",
        "Hongos = Dataset(mushrooms,\"dataset para clasificar hongos venenosos\")\n",
        "Cars1=Dataset(cars1,\"carros 1\")\n",
        "Cars2=Dataset(cars2,\"carros 2\")\n",
        "\n",
        "#OBJETOS DATASETS PARA PROBAR FUNCIONES MODIFICACION Y ELIMINACION DE COLUMNAS\n",
        "#Y SUSTITUCION DE FALTANTES\n",
        "\n",
        "\n",
        "Diabetes2=Dataset(Diabetes.dataframe,\"Copia para pruebas de modificacion\")\n",
        "Iris2=Dataset(Iris.dataframe,\"Copia para pruebas de modificacion\")\n",
        "Hongos2=Dataset(Hongos.dataframe,\"Copia para pruebas de modificacion\")\n",
        "Cars1_2=Dataset(Cars1.dataframe,\"Copia para pruebas de modificacion\")\n",
        "Cars2_2=Dataset(Cars2.dataframe,\"Copia para pruebas de modificacion\")\n",
        "\n",
        "\n",
        "\n",
        "\n",
        "\n",
        "nombres=[\"Diabtes\",\"Iris\",\"Hongos\",\"Cars1\",\"Cars2\"]\n",
        "Datasets=[Diabetes,Iris,Hongos,Cars1,Cars2]\n",
        "Datasets2=[Diabetes2,Iris2,Hongos2,Cars1_2,Cars2_2]"
      ],
      "metadata": {
        "id": "9ibj2Yf0bymh"
      },
      "execution_count": 5,
      "outputs": []
    },
    {
      "cell_type": "markdown",
      "source": [
        "# *1: getColumnasVacias*"
      ],
      "metadata": {
        "id": "EDCcmRLigqdV"
      }
    },
    {
      "cell_type": "code",
      "source": [
        "print(\"Cantidad de columnas vacias Diabetes: \",len(Diabetes.getColumnasVacias()))\n",
        "print(\"Cantidad de columnas vacias Iris: \",len(Iris.getColumnasVacias()))\n",
        "print(\"Cantidad de columnas vacias Hongos: \",len(Hongos.getColumnasVacias()))\n",
        "print(\"Cantidad de columnas vacias Cars1: \",len(Cars1.getColumnasVacias()))\n",
        "print(\"Cantidad de columnas vacias Cars2: \",len(Cars2.getColumnasVacias()))"
      ],
      "metadata": {
        "colab": {
          "base_uri": "https://localhost:8080/"
        },
        "id": "Y-Nbf799ir-L",
        "outputId": "2be004f9-7a23-4a39-d885-8de88de37c07"
      },
      "execution_count": 6,
      "outputs": [
        {
          "output_type": "stream",
          "name": "stdout",
          "text": [
            "Cantidad de columnas vacias Diabetes:  0\n",
            "Cantidad de columnas vacias Iris:  0\n",
            "Cantidad de columnas vacias Hongos:  1\n",
            "Cantidad de columnas vacias Cars1:  2\n",
            "Cantidad de columnas vacias Cars2:  0\n"
          ]
        }
      ]
    },
    {
      "cell_type": "markdown",
      "source": [
        "# *2: getNombresNoNumericas*"
      ],
      "metadata": {
        "id": "FGBB5evAhIJF"
      }
    },
    {
      "cell_type": "code",
      "source": [
        "print(\"Cantidad de columnas NoNumericas Diabetes: \",len(Diabetes.getNombresNoNumericas()))\n",
        "print(\"Cantidad de columnas NoNumericas Iris: \",len(Iris.getNombresNoNumericas()))\n",
        "print(\"Cantidad de columnas NoNumericas Hongos: \",len(Hongos.getNombresNoNumericas()))\n",
        "print(\"Cantidad de columnas NoNumericas Cars1: \",len(Cars1.getNombresNoNumericas()))\n",
        "print(\"Cantidad de columnas NoNumericas Cars2: \",len(Cars2.getNombresNoNumericas()))"
      ],
      "metadata": {
        "colab": {
          "base_uri": "https://localhost:8080/"
        },
        "id": "jrCXzwW2jbFi",
        "outputId": "757f3ab6-48c0-414d-b4d0-f2fca0e56aae"
      },
      "execution_count": 7,
      "outputs": [
        {
          "output_type": "stream",
          "name": "stdout",
          "text": [
            "Cantidad de columnas NoNumericas Diabetes:  0\n",
            "Cantidad de columnas NoNumericas Iris:  1\n",
            "Cantidad de columnas NoNumericas Hongos:  23\n",
            "Cantidad de columnas NoNumericas Cars1:  3\n",
            "Cantidad de columnas NoNumericas Cars2:  3\n"
          ]
        }
      ]
    },
    {
      "cell_type": "markdown",
      "source": [
        "# *3: getNombresNumericas*"
      ],
      "metadata": {
        "id": "X-QMawXqhLTw"
      }
    },
    {
      "cell_type": "code",
      "source": [
        "print(\"Cantidad de columnas Numericas Diabetes: \",len(Diabetes.getNombresNumericas()))\n",
        "print(\"Cantidad de columnas Numericas Iris: \",len(Iris.getNombresNumericas()))\n",
        "print(\"Cantidad de columnas Numericas Hongos: \",len(Hongos.getNombresNumericas()))\n",
        "print(\"Cantidad de columnas Numericas Cars1: \",len(Cars1.getNombresNumericas()))\n",
        "print(\"Cantidad de columnas Numericas Cars2: \",len(Cars2.getNombresNumericas()))"
      ],
      "metadata": {
        "colab": {
          "base_uri": "https://localhost:8080/"
        },
        "id": "BydPWfx3kGJp",
        "outputId": "9d4e0f32-619c-4a59-b2e7-92ca256bf447"
      },
      "execution_count": 8,
      "outputs": [
        {
          "output_type": "stream",
          "name": "stdout",
          "text": [
            "Cantidad de columnas Numericas Diabetes:  9\n",
            "Cantidad de columnas Numericas Iris:  5\n",
            "Cantidad de columnas Numericas Hongos:  0\n",
            "Cantidad de columnas Numericas Cars1:  8\n",
            "Cantidad de columnas Numericas Cars2:  6\n"
          ]
        }
      ]
    },
    {
      "cell_type": "markdown",
      "source": [
        "# *4: contarAtipicosPorColumnas*"
      ],
      "metadata": {
        "id": "6nkRm0VRhRYX"
      }
    },
    {
      "cell_type": "code",
      "source": [
        "atipicosIris=[]\n",
        "numericasIris=Iris.getNombresNumericas()\n",
        "atipicosIris=Iris.contarAtipicosPorColumnas(numericasIris)"
      ],
      "metadata": {
        "colab": {
          "base_uri": "https://localhost:8080/",
          "height": 362
        },
        "id": "FZTwSWuclVOd",
        "outputId": "a9e0b62c-4960-45c0-db70-f4f79f90880b"
      },
      "execution_count": 9,
      "outputs": [
        {
          "output_type": "error",
          "ename": "ValueError",
          "evalue": "ignored",
          "traceback": [
            "\u001b[0;31m---------------------------------------------------------------------------\u001b[0m",
            "\u001b[0;31mValueError\u001b[0m                                Traceback (most recent call last)",
            "\u001b[0;32m<ipython-input-9-7da9507d8f57>\u001b[0m in \u001b[0;36m<module>\u001b[0;34m()\u001b[0m\n\u001b[1;32m      1\u001b[0m \u001b[0matipicosIris\u001b[0m\u001b[0;34m=\u001b[0m\u001b[0;34m[\u001b[0m\u001b[0;34m]\u001b[0m\u001b[0;34m\u001b[0m\u001b[0;34m\u001b[0m\u001b[0m\n\u001b[1;32m      2\u001b[0m \u001b[0mnumericasIris\u001b[0m\u001b[0;34m=\u001b[0m\u001b[0mIris\u001b[0m\u001b[0;34m.\u001b[0m\u001b[0mgetNombresNumericas\u001b[0m\u001b[0;34m(\u001b[0m\u001b[0;34m)\u001b[0m\u001b[0;34m\u001b[0m\u001b[0;34m\u001b[0m\u001b[0m\n\u001b[0;32m----> 3\u001b[0;31m \u001b[0matipicosIris\u001b[0m\u001b[0;34m=\u001b[0m\u001b[0mIris\u001b[0m\u001b[0;34m.\u001b[0m\u001b[0mcontarAtipicosPorColumnas\u001b[0m\u001b[0;34m(\u001b[0m\u001b[0mnumericasIris\u001b[0m\u001b[0;34m)\u001b[0m\u001b[0;34m\u001b[0m\u001b[0;34m\u001b[0m\u001b[0m\n\u001b[0m",
            "\u001b[0;32m/content/versicolor.py\u001b[0m in \u001b[0;36mcontarAtipicosPorColumnas\u001b[0;34m(self, nombresColumnas)\u001b[0m\n\u001b[1;32m    222\u001b[0m \u001b[0;34m\u001b[0m\u001b[0m\n\u001b[1;32m    223\u001b[0m       \u001b[0mdfAux\u001b[0m\u001b[0;34m=\u001b[0m\u001b[0mpd\u001b[0m\u001b[0;34m.\u001b[0m\u001b[0mDataFrame\u001b[0m\u001b[0;34m(\u001b[0m\u001b[0;34m)\u001b[0m\u001b[0;34m\u001b[0m\u001b[0;34m\u001b[0m\u001b[0m\n\u001b[0;32m--> 224\u001b[0;31m       \u001b[0mdfAux\u001b[0m\u001b[0;34m=\u001b[0m \u001b[0mself\u001b[0m\u001b[0;34m.\u001b[0m\u001b[0mdataframe\u001b[0m\u001b[0;34m[\u001b[0m      \u001b[0;34m(\u001b[0m\u001b[0mself\u001b[0m\u001b[0;34m.\u001b[0m\u001b[0mdataframe\u001b[0m\u001b[0;34m[\u001b[0m\u001b[0mcolumna\u001b[0m\u001b[0;34m]\u001b[0m \u001b[0;34m<\u001b[0m \u001b[0mlimInf\u001b[0m\u001b[0;34m[\u001b[0m\u001b[0mi\u001b[0m\u001b[0;34m]\u001b[0m\u001b[0;34m)\u001b[0m \u001b[0;32mor\u001b[0m \u001b[0;34m(\u001b[0m\u001b[0mself\u001b[0m\u001b[0;34m.\u001b[0m\u001b[0mdataframe\u001b[0m\u001b[0;34m[\u001b[0m\u001b[0mcolumna\u001b[0m\u001b[0;34m]\u001b[0m \u001b[0;34m>\u001b[0m \u001b[0mlimSup\u001b[0m\u001b[0;34m[\u001b[0m\u001b[0mi\u001b[0m\u001b[0;34m]\u001b[0m\u001b[0;34m)\u001b[0m     \u001b[0;34m]\u001b[0m\u001b[0;34m\u001b[0m\u001b[0;34m\u001b[0m\u001b[0m\n\u001b[0m\u001b[1;32m    225\u001b[0m \u001b[0;34m\u001b[0m\u001b[0m\n\u001b[1;32m    226\u001b[0m       \u001b[0mcantidadAtipicos\u001b[0m\u001b[0;34m.\u001b[0m\u001b[0mappend\u001b[0m\u001b[0;34m(\u001b[0m\u001b[0mdfAux\u001b[0m\u001b[0;34m.\u001b[0m\u001b[0mshape\u001b[0m\u001b[0;34m[\u001b[0m\u001b[0;36m0\u001b[0m\u001b[0;34m]\u001b[0m\u001b[0;34m)\u001b[0m\u001b[0;34m\u001b[0m\u001b[0;34m\u001b[0m\u001b[0m\n",
            "\u001b[0;32m/usr/local/lib/python3.7/dist-packages/pandas/core/generic.py\u001b[0m in \u001b[0;36m__nonzero__\u001b[0;34m(self)\u001b[0m\n\u001b[1;32m   1536\u001b[0m     \u001b[0;32mdef\u001b[0m \u001b[0m__nonzero__\u001b[0m\u001b[0;34m(\u001b[0m\u001b[0mself\u001b[0m\u001b[0;34m)\u001b[0m\u001b[0;34m:\u001b[0m\u001b[0;34m\u001b[0m\u001b[0;34m\u001b[0m\u001b[0m\n\u001b[1;32m   1537\u001b[0m         raise ValueError(\n\u001b[0;32m-> 1538\u001b[0;31m             \u001b[0;34mf\"The truth value of a {type(self).__name__} is ambiguous. \"\u001b[0m\u001b[0;34m\u001b[0m\u001b[0;34m\u001b[0m\u001b[0m\n\u001b[0m\u001b[1;32m   1539\u001b[0m             \u001b[0;34m\"Use a.empty, a.bool(), a.item(), a.any() or a.all().\"\u001b[0m\u001b[0;34m\u001b[0m\u001b[0;34m\u001b[0m\u001b[0m\n\u001b[1;32m   1540\u001b[0m         )\n",
            "\u001b[0;31mValueError\u001b[0m: The truth value of a Series is ambiguous. Use a.empty, a.bool(), a.item(), a.any() or a.all()."
          ]
        }
      ]
    },
    {
      "cell_type": "markdown",
      "source": [
        "# *5: contarFaltantesColumnas*"
      ],
      "metadata": {
        "id": "CqvgvaWthUdu"
      }
    },
    {
      "cell_type": "code",
      "source": [
        "\n",
        "n=len(Datasets)\n",
        "\n",
        "for i in range(0,n):\n",
        "  cols=Datasets[i].getNombresNoNumericas()+Datasets[i].getNombresNumericas()\n",
        "  faltantes=Datasets[i].contarFaltantesColumnas(cols,False)\n",
        "  totales=sum(faltantes)\n",
        "  print(\"Cantidad de datos Faltantes en \",nombres[i],\" :\",totales)"
      ],
      "metadata": {
        "colab": {
          "base_uri": "https://localhost:8080/"
        },
        "id": "d9WCcsjhqPbj",
        "outputId": "ce9e278b-378d-4287-bd27-f622347cb6b6"
      },
      "execution_count": 10,
      "outputs": [
        {
          "output_type": "stream",
          "name": "stdout",
          "text": [
            "Cantidad de datos Faltantes en  Diabtes  : 0\n",
            "Cantidad de datos Faltantes en  Iris  : 0\n",
            "Cantidad de datos Faltantes en  Hongos  : 0\n",
            "Cantidad de datos Faltantes en  Cars1  : 396\n",
            "Cantidad de datos Faltantes en  Cars2  : 0\n"
          ]
        }
      ]
    },
    {
      "cell_type": "markdown",
      "source": [
        "# *6: contarFaltantesColumnasCustom*"
      ],
      "metadata": {
        "id": "WCxfrC5EhVKh"
      }
    },
    {
      "cell_type": "code",
      "source": [
        "cols=Ternium.getNombresNumericas()+Ternium.getNombresNoNumericas()\n",
        "faltantes=Ternium.contarFaltantesColumnasCustom(cols,False,'0')\n",
        "faltantes"
      ],
      "metadata": {
        "id": "O6daQzzuzK60",
        "colab": {
          "base_uri": "https://localhost:8080/",
          "height": 209
        },
        "outputId": "bac643b3-3aeb-480d-831e-d76ad9f18591"
      },
      "execution_count": 11,
      "outputs": [
        {
          "output_type": "error",
          "ename": "NameError",
          "evalue": "ignored",
          "traceback": [
            "\u001b[0;31m---------------------------------------------------------------------------\u001b[0m",
            "\u001b[0;31mNameError\u001b[0m                                 Traceback (most recent call last)",
            "\u001b[0;32m<ipython-input-11-54bfb0d4696a>\u001b[0m in \u001b[0;36m<module>\u001b[0;34m()\u001b[0m\n\u001b[0;32m----> 1\u001b[0;31m \u001b[0mcols\u001b[0m\u001b[0;34m=\u001b[0m\u001b[0mTernium\u001b[0m\u001b[0;34m.\u001b[0m\u001b[0mgetNombresNumericas\u001b[0m\u001b[0;34m(\u001b[0m\u001b[0;34m)\u001b[0m\u001b[0;34m+\u001b[0m\u001b[0mTernium\u001b[0m\u001b[0;34m.\u001b[0m\u001b[0mgetNombresNoNumericas\u001b[0m\u001b[0;34m(\u001b[0m\u001b[0;34m)\u001b[0m\u001b[0;34m\u001b[0m\u001b[0;34m\u001b[0m\u001b[0m\n\u001b[0m\u001b[1;32m      2\u001b[0m \u001b[0mfaltantes\u001b[0m\u001b[0;34m=\u001b[0m\u001b[0mTernium\u001b[0m\u001b[0;34m.\u001b[0m\u001b[0mcontarFaltantesColumnasCustom\u001b[0m\u001b[0;34m(\u001b[0m\u001b[0mcols\u001b[0m\u001b[0;34m,\u001b[0m\u001b[0;32mFalse\u001b[0m\u001b[0;34m,\u001b[0m\u001b[0;34m'0'\u001b[0m\u001b[0;34m)\u001b[0m\u001b[0;34m\u001b[0m\u001b[0;34m\u001b[0m\u001b[0m\n\u001b[1;32m      3\u001b[0m \u001b[0mfaltantes\u001b[0m\u001b[0;34m\u001b[0m\u001b[0;34m\u001b[0m\u001b[0m\n",
            "\u001b[0;31mNameError\u001b[0m: name 'Ternium' is not defined"
          ]
        }
      ]
    },
    {
      "cell_type": "code",
      "source": [
        "n=len(Datasets)\n",
        "\n",
        "for i in range(0,n):\n",
        "  cols=Datasets[i].getNombresNoNumericas()+Datasets[i].getNombresNumericas()\n",
        "  faltantes=list(Datasets[i].contarFaltantesColumnasCustom(cols,False,'0'))\n",
        "  totales=sum(faltantes)\n",
        "  print(\"Cantidad de datos Faltantes como 0 en \",nombres[i],\" :\",totales)"
      ],
      "metadata": {
        "id": "W9oL3YBevnqG",
        "colab": {
          "base_uri": "https://localhost:8080/"
        },
        "outputId": "58902885-a829-4b4f-a218-0e90f7a96322"
      },
      "execution_count": 12,
      "outputs": [
        {
          "output_type": "stream",
          "name": "stdout",
          "text": [
            "Cantidad de datos Faltantes como 0 en  Diabtes  : Pregnancies                 0.0\n",
            "Glucose                     0.0\n",
            "BloodPressure               0.0\n",
            "SkinThickness               0.0\n",
            "Insulin                     0.0\n",
            "BMI                         0.0\n",
            "DiabetesPedigreeFunction    0.0\n",
            "Age                         0.0\n",
            "Outcome                     0.0\n",
            "dtype: float64\n",
            "Cantidad de datos Faltantes como 0 en  Iris  : Id               0.0\n",
            "SepalLengthCm    0.0\n",
            "SepalWidthCm     0.0\n",
            "PetalLengthCm    0.0\n",
            "PetalWidthCm     0.0\n",
            "Species          0.0\n",
            "dtype: float64\n",
            "Cantidad de datos Faltantes como 0 en  Hongos  : class                       0.0\n",
            "cap-shape                   0.0\n",
            "cap-surface                 0.0\n",
            "cap-color                   0.0\n",
            "bruises                     0.0\n",
            "odor                        0.0\n",
            "gill-attachment             0.0\n",
            "gill-spacing                0.0\n",
            "gill-size                   0.0\n",
            "gill-color                  0.0\n",
            "stalk-shape                 0.0\n",
            "stalk-root                  0.0\n",
            "stalk-surface-above-ring    0.0\n",
            "stalk-surface-below-ring    0.0\n",
            "stalk-color-above-ring      0.0\n",
            "stalk-color-below-ring      0.0\n",
            "veil-type                   0.0\n",
            "veil-color                  0.0\n",
            "ring-number                 0.0\n",
            "ring-type                   0.0\n",
            "spore-print-color           0.0\n",
            "population                  0.0\n",
            "habitat                     0.0\n",
            "dtype: float64\n",
            "Cantidad de datos Faltantes como 0 en  Cars1  : mpg             0.0\n",
            "cylinders       0.0\n",
            "displacement    0.0\n",
            "horsepower      0.0\n",
            "weight          0.0\n",
            "acceleration    0.0\n",
            "model           0.0\n",
            "origin          0.0\n",
            "car             0.0\n",
            "data1           0.0\n",
            "data2           0.0\n",
            "dtype: float64\n",
            "Cantidad de datos Faltantes como 0 en  Cars2  : mpg             0.0\n",
            "cylinders       0.0\n",
            "displacement    0.0\n",
            "horsepower      0.0\n",
            "weight          0.0\n",
            "acceleration    0.0\n",
            "model           0.0\n",
            "origin          0.0\n",
            "car             0.0\n",
            "dtype: float64\n"
          ]
        }
      ]
    },
    {
      "cell_type": "markdown",
      "source": [
        "# *7: quitarColumnas*"
      ],
      "metadata": {
        "id": "i9QTLjquhV7k"
      }
    },
    {
      "cell_type": "code",
      "source": [
        "print(\"Cantidad de columnas vacias Diabetes2: \",len(Diabetes2.getColumnasVacias()))\n",
        "print(\"Cantidad de columnas vacias Iris2: \",len(Iris2.getColumnasVacias()))\n",
        "print(\"Cantidad de columnas vacias Hongos2: \",len(Hongos2.getColumnasVacias()))\n",
        "print(\"Cantidad de columnas vacias Cars1 2: \",len(Cars1_2.getColumnasVacias()))\n",
        "print(\"Cantidad de columnas vacias Cars2 2: \",len(Cars2_2.getColumnasVacias()))"
      ],
      "metadata": {
        "colab": {
          "base_uri": "https://localhost:8080/"
        },
        "id": "G7m09_IBPXxK",
        "outputId": "2980d83e-9210-4c6e-f7f6-accd4768e4b9"
      },
      "execution_count": 14,
      "outputs": [
        {
          "output_type": "stream",
          "name": "stdout",
          "text": [
            "Cantidad de columnas vacias Diabetes2:  0\n",
            "Cantidad de columnas vacias Iris2:  0\n",
            "Cantidad de columnas vacias Hongos2:  1\n",
            "Cantidad de columnas vacias Cars1 2:  2\n",
            "Cantidad de columnas vacias Cars2 2:  0\n"
          ]
        }
      ]
    },
    {
      "cell_type": "code",
      "source": [
        "Diabetes2.quitarColumnas(Diabetes2.getColumnasVacias())\n",
        "Iris2.quitarColumnas(Iris2.getColumnasVacias())\n",
        "Hongos2.quitarColumnas(Hongos2.getColumnasVacias())\n",
        "Cars1_2.quitarColumnas(Cars1_2.getColumnasVacias())\n",
        "Cars2_2.quitarColumnas(Cars2_2.getColumnasVacias())"
      ],
      "metadata": {
        "colab": {
          "base_uri": "https://localhost:8080/"
        },
        "id": "qazZSSgzPd4F",
        "outputId": "8277c93b-64fa-4e85-8434-ff4180422a04"
      },
      "execution_count": 15,
      "outputs": [
        {
          "output_type": "execute_result",
          "data": {
            "text/plain": [
              "0"
            ]
          },
          "metadata": {},
          "execution_count": 15
        }
      ]
    },
    {
      "cell_type": "code",
      "source": [
        "print(\"Cantidad de columnas vacias Diabetes2: \",len(Diabetes2.getColumnasVacias()))\n",
        "print(\"Cantidad de columnas vacias Iris2: \",len(Iris2.getColumnasVacias()))\n",
        "print(\"Cantidad de columnas vacias Hongos2: \",len(Hongos2.getColumnasVacias()))\n",
        "print(\"Cantidad de columnas vacias Cars1 2: \",len(Cars1_2.getColumnasVacias()))\n",
        "print(\"Cantidad de columnas vacias Cars2 2: \",len(Cars2_2.getColumnasVacias()))"
      ],
      "metadata": {
        "colab": {
          "base_uri": "https://localhost:8080/"
        },
        "id": "XG1ucgJHQWqx",
        "outputId": "4520acf1-4b9d-4efc-c048-fa8bf2fe8264"
      },
      "execution_count": 16,
      "outputs": [
        {
          "output_type": "stream",
          "name": "stdout",
          "text": [
            "Cantidad de columnas vacias Diabetes2:  0\n",
            "Cantidad de columnas vacias Iris2:  0\n",
            "Cantidad de columnas vacias Hongos2:  0\n",
            "Cantidad de columnas vacias Cars1 2:  0\n",
            "Cantidad de columnas vacias Cars2 2:  0\n"
          ]
        }
      ]
    },
    {
      "cell_type": "markdown",
      "source": [
        "# *8: reemplazarFaltantesColumnas*"
      ],
      "metadata": {
        "id": "pVwFut3phWnf"
      }
    },
    {
      "cell_type": "markdown",
      "source": [
        "**PROMEDIO**"
      ],
      "metadata": {
        "id": "ezAHh5QxwOVE"
      }
    },
    {
      "cell_type": "code",
      "source": [
        "n=len(Datasets)\n",
        "\n",
        "for i in range(0,n):\n",
        "  #cols=Datasets[i].getNombresNoNumericas()+Datasets[i].getNombresNumericas()\n",
        "  cols=Datasets[i].getNombresNumericas()\n",
        "  faltantes=Datasets[i].contarFaltantesColumnas(cols,False)\n",
        "  totales=sum(faltantes)\n",
        "  print(\"Cantidad de datos Faltantes en numericas\",nombres[i],\" :\",totales)"
      ],
      "metadata": {
        "colab": {
          "base_uri": "https://localhost:8080/"
        },
        "id": "rrJPPxZMRDU3",
        "outputId": "76200637-f1ea-43ab-ff93-893148974997"
      },
      "execution_count": 17,
      "outputs": [
        {
          "output_type": "stream",
          "name": "stdout",
          "text": [
            "Cantidad de datos Faltantes en numericas Diabtes  : 0\n",
            "Cantidad de datos Faltantes en numericas Iris  : 0\n",
            "Cantidad de datos Faltantes en numericas Hongos  : 0\n",
            "Cantidad de datos Faltantes en numericas Cars1  : 396\n",
            "Cantidad de datos Faltantes en numericas Cars2  : 0\n"
          ]
        }
      ]
    },
    {
      "cell_type": "code",
      "source": [
        "n=len(Datasets)\n",
        "\n",
        "for i in range(0,n):\n",
        "  numericas=Datasets[i].getNombresNumericas()\n",
        "  Datasets[i].reemplazarFaltantesColumnas(numericas,\"promedio\")"
      ],
      "metadata": {
        "id": "Eb28CVuPRDqI"
      },
      "execution_count": 18,
      "outputs": []
    },
    {
      "cell_type": "code",
      "source": [
        "n=len(Datasets)\n",
        "\n",
        "for i in range(0,n):\n",
        "  #cols=Datasets[i].getNombresNoNumericas()+Datasets[i].getNombresNumericas()\n",
        "  cols=Datasets[i].getNombresNumericas()\n",
        "  faltantes=Datasets[i].contarFaltantesColumnas(cols,False)\n",
        "  totales=sum(faltantes)\n",
        "  print(\"Cantidad de datos Faltantes Numericos en \",nombres[i],\" :\",totales)"
      ],
      "metadata": {
        "colab": {
          "base_uri": "https://localhost:8080/"
        },
        "id": "mIHjv3WUTGXp",
        "outputId": "50ebb13e-9d8b-4f30-fd85-fb3ba70dd7c5"
      },
      "execution_count": 19,
      "outputs": [
        {
          "output_type": "stream",
          "name": "stdout",
          "text": [
            "Cantidad de datos Faltantes Numericos en  Diabtes  : 0\n",
            "Cantidad de datos Faltantes Numericos en  Iris  : 0\n",
            "Cantidad de datos Faltantes Numericos en  Hongos  : 0\n",
            "Cantidad de datos Faltantes Numericos en  Cars1  : 396\n",
            "Cantidad de datos Faltantes Numericos en  Cars2  : 0\n"
          ]
        }
      ]
    },
    {
      "cell_type": "markdown",
      "source": [
        "**MEDIANA**"
      ],
      "metadata": {
        "id": "5Xq8TYLLwRSV"
      }
    },
    {
      "cell_type": "code",
      "source": [
        "n=len(Datasets2)\n",
        "\n",
        "for i in range(0,n):\n",
        "  #cols=Datasets2[i].getNombresNoNumericas()+Datasets2[i].getNombresNumericas()\n",
        "  cols=Datasets2[i].getNombresNumericas()\n",
        "  faltantes=Datasets2[i].contarFaltantesColumnas(cols,False)\n",
        "  totales=sum(faltantes)\n",
        "  print(\"Cantidad de datos Faltantes Numericos en \",nombres[i],\" :\",totales)"
      ],
      "metadata": {
        "colab": {
          "base_uri": "https://localhost:8080/"
        },
        "id": "C4xCGuZLuy81",
        "outputId": "166dcef0-a32b-4532-873f-9064e3209b55"
      },
      "execution_count": 20,
      "outputs": [
        {
          "output_type": "stream",
          "name": "stdout",
          "text": [
            "Cantidad de datos Faltantes Numericos en  Diabtes  : 0\n",
            "Cantidad de datos Faltantes Numericos en  Iris  : 0\n",
            "Cantidad de datos Faltantes Numericos en  Hongos  : 0\n",
            "Cantidad de datos Faltantes Numericos en  Cars1  : 0\n",
            "Cantidad de datos Faltantes Numericos en  Cars2  : 0\n"
          ]
        }
      ]
    },
    {
      "cell_type": "code",
      "source": [
        "n=len(Datasets2)\n",
        "\n",
        "for i in range(0,n):\n",
        "  numericas=Datasets2[i].getNombresNumericas()\n",
        "  Datasets2[i].reemplazarFaltantesColumnas(numericas,\"mediana\")"
      ],
      "metadata": {
        "id": "721qZ7Z5ujKx"
      },
      "execution_count": 21,
      "outputs": []
    },
    {
      "cell_type": "code",
      "source": [
        "n=len(Datasets2)\n",
        "\n",
        "for i in range(0,n):\n",
        "  #cols=Datasets2[i].getNombresNoNumericas()+Datasets2[i].getNombresNumericas()\n",
        "  cols=Datasets2[i].getNombresNumericas()\n",
        "  faltantes=Datasets2[i].contarFaltantesColumnas(cols,False)\n",
        "  totales=sum(faltantes)\n",
        "  print(\"Cantidad de datos Faltantes Numericos en \",nombres[i],\" :\",totales)"
      ],
      "metadata": {
        "colab": {
          "base_uri": "https://localhost:8080/"
        },
        "id": "e_4aRY6gvv1r",
        "outputId": "7f7dca33-8754-4d68-ad25-372fcc9c0382"
      },
      "execution_count": 22,
      "outputs": [
        {
          "output_type": "stream",
          "name": "stdout",
          "text": [
            "Cantidad de datos Faltantes Numericos en  Diabtes  : 0\n",
            "Cantidad de datos Faltantes Numericos en  Iris  : 0\n",
            "Cantidad de datos Faltantes Numericos en  Hongos  : 0\n",
            "Cantidad de datos Faltantes Numericos en  Cars1  : 0\n",
            "Cantidad de datos Faltantes Numericos en  Cars2  : 0\n"
          ]
        }
      ]
    },
    {
      "cell_type": "markdown",
      "source": [
        "**MODA**"
      ],
      "metadata": {
        "id": "Ol7llug0wUEh"
      }
    },
    {
      "cell_type": "code",
      "source": [
        "'''\n",
        "NO FUNCIONO\n",
        "\n",
        "'''"
      ],
      "metadata": {
        "id": "ICdCSHi6wVq7",
        "colab": {
          "base_uri": "https://localhost:8080/",
          "height": 36
        },
        "outputId": "d27ba409-6e8b-4d06-c5ad-ec54561545ff"
      },
      "execution_count": 23,
      "outputs": [
        {
          "output_type": "execute_result",
          "data": {
            "text/plain": [
              "'\\nNO FUNCIONO\\n\\n'"
            ],
            "application/vnd.google.colaboratory.intrinsic+json": {
              "type": "string"
            }
          },
          "metadata": {},
          "execution_count": 23
        }
      ]
    },
    {
      "cell_type": "markdown",
      "source": [
        "# *9: reemplazarFaltantesColumnasCustom*"
      ],
      "metadata": {
        "id": "TGSAz1G9hXND"
      }
    },
    {
      "cell_type": "code",
      "source": [
        "'''\n",
        "No la he probado pero siento que sí va a fallar porque la otra de contar\n",
        "faltantes custom tambien fallo\n",
        "'''"
      ],
      "metadata": {
        "id": "Xocgk5gPyitv",
        "colab": {
          "base_uri": "https://localhost:8080/",
          "height": 36
        },
        "outputId": "35e5ae77-ca48-4ced-85b5-c1bb46c0384d"
      },
      "execution_count": 24,
      "outputs": [
        {
          "output_type": "execute_result",
          "data": {
            "text/plain": [
              "'\\nNo la he probado pero siento que sí va a fallar porque la otra de contar\\nfaltantes custom tambien fallo\\n'"
            ],
            "application/vnd.google.colaboratory.intrinsic+json": {
              "type": "string"
            }
          },
          "metadata": {},
          "execution_count": 24
        }
      ]
    },
    {
      "cell_type": "code",
      "source": [
        ""
      ],
      "metadata": {
        "id": "RHs-2hA8yzvw"
      },
      "execution_count": 24,
      "outputs": []
    },
    {
      "cell_type": "markdown",
      "source": [
        "# *10: exportarCsv*"
      ],
      "metadata": {
        "id": "POOp-v0WhX0v"
      }
    }
  ]
}